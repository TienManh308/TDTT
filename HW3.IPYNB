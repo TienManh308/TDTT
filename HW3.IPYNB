{
 "cells": [
  {
   "cell_type": "code",
   "execution_count": 7,
   "id": "a3460cf0",
   "metadata": {},
   "outputs": [
    {
     "data": {
      "text/plain": [
       "'321'"
      ]
     },
     "execution_count": 7,
     "metadata": {},
     "output_type": "execute_result"
    }
   ],
   "source": [
    "#1.1\n",
    "def reverse1(s):\n",
    "    return s[::-1]\n",
    "st = input(\"Enter a string: \")\n",
    "reverse1(st)\n",
    "\n",
    "    "
   ]
  },
  {
   "cell_type": "code",
   "execution_count": null,
   "id": "a2f4a682",
   "metadata": {},
   "outputs": [
    {
     "name": "stdout",
     "output_type": "stream",
     "text": [
      "Sau khi hoán đổi: a = 0 , b = 1\n"
     ]
    }
   ],
   "source": [
    "#1.2\n",
    "a = 1   \n",
    "b = 0   \n",
    "\n",
    "c = a ^ b  \n",
    "b = b ^ c  \n",
    "a = a ^ c  \n",
    "\n",
    "print(\" a =\", a, \", b =\", b)\n"
   ]
  },
  {
   "cell_type": "code",
   "execution_count": null,
   "id": "fb272e03",
   "metadata": {},
   "outputs": [],
   "source": [
    "#1.3\n",
    "n = int(input(\"nhap n: \"))\n",
    "if n & (n-1) == 0:\n",
    "    print(n, \"la so chinh phuong \")\n",
    "else:\n",
    "    print (n, \"khong la so chinh phuong \")"
   ]
  },
  {
   "cell_type": "code",
   "execution_count": null,
   "id": "4d18fd85",
   "metadata": {},
   "outputs": [
    {
     "name": "stdout",
     "output_type": "stream",
     "text": [
      "51\n"
     ]
    }
   ],
   "source": [
    "#1.4\n",
    "a, b = map(int, input(\"nhap 2 so: \").split())\n",
    "c = a // b\n",
    "print(c)\n"
   ]
  },
  {
   "cell_type": "code",
   "execution_count": 6,
   "id": "ef1c3bfe",
   "metadata": {},
   "outputs": [
    {
     "name": "stdout",
     "output_type": "stream",
     "text": [
      "1\n"
     ]
    }
   ],
   "source": [
    "#1.5\n",
    "a,b = map(int, input('nhap 2 so:').split())\n",
    "c = a//b\n",
    "if a % b == 0:\n",
    "    print(c)\n",
    "else:\n",
    "    print(c+1)"
   ]
  },
  {
   "cell_type": "code",
   "execution_count": null,
   "id": "d5e33759",
   "metadata": {},
   "outputs": [],
   "source": [
    "#1.6\n",
    "n = int(input(\"nhap n: \"))\n",
    "if n % 2 == 0:\n",
    "    print('Even ')\n",
    "else:\n",
    "    print('Odd')"
   ]
  },
  {
   "cell_type": "code",
   "execution_count": 9,
   "id": "06fb61b9",
   "metadata": {},
   "outputs": [
    {
     "name": "stdout",
     "output_type": "stream",
     "text": [
      "no\n"
     ]
    }
   ],
   "source": [
    "#1.7\n",
    "a,b  = map(int, input('nhap 2 so:').split())\n",
    "if a < 0 and b <0:\n",
    "    print(\"yes\")\n",
    "else:\n",
    "    print('no')"
   ]
  },
  {
   "cell_type": "code",
   "execution_count": null,
   "id": "63f52823",
   "metadata": {},
   "outputs": [],
   "source": [
    "st1 = input('nhap day thu nhat: ')\n",
    "st2 = input('nhap day thu hai : ')\n",
    "if len(a) > len(b):\n",
    "    print(\"true\")\n",
    "else:\n",
    "    print('false')\n"
   ]
  },
  {
   "cell_type": "code",
   "execution_count": null,
   "id": "4d59f2c0",
   "metadata": {},
   "outputs": [
    {
     "name": "stdout",
     "output_type": "stream",
     "text": [
      "no\n"
     ]
    }
   ],
   "source": [
    "#1.8\n",
    "c1, c2, c3 = map(float, input(\"nhap 3 canh: \").split())\n",
    "if c1 + c2 > c3 and (c1 + c3 > c2) and (c2 +c3 > c1):\n",
    "    if (c1 == c2) or (c2 == c3) or (c1 == c3):\n",
    "        if (c1 == c2 ==c3):\n",
    "            print(\"tam giac deu\")\n",
    "        elif (c1**2 + c2**2 == c3**2) or (c2**2 + c3**2 == c1**2) or (c1**2 + c3**2 == c2**2):\n",
    "            print(\"tam giac vuong can\")\n",
    "        else:\n",
    "            print('tam giac can')\n",
    "    elif c1**2 + c2**2 == c3**2 or c2**2 + c3**2 == c1**2 or c1**2 + c3**2 == c2**2:\n",
    "        print(\"tam giac vuong\")\n",
    "    else:\n",
    "        print('tam giac thuong')\n",
    "else:\n",
    "    print('khong phai tam giac')\n"
   ]
  },
  {
   "cell_type": "code",
   "execution_count": 13,
   "id": "3ec23a39",
   "metadata": {},
   "outputs": [
    {
     "name": "stdout",
     "output_type": "stream",
     "text": [
      "2\n"
     ]
    }
   ],
   "source": [
    "#1.9\n",
    "num1, num2, num3, num4 = map(int, input(\"nhap 4 so: \").split())\n",
    "M = max(num1, num2, num3, num4)\n",
    "print(M)"
   ]
  },
  {
   "cell_type": "code",
   "execution_count": null,
   "id": "2028a741",
   "metadata": {},
   "outputs": [],
   "source": [
    "#1.10\n",
    "year = int(input('nhap nam: '))\n",
    "if year % 400 == 9 or (year % 4 == 0 and year % 100 != 0):\n",
    "    print(year, \"la nam nhuan\")\n",
    "else:\n",
    "    print(year, 'khong la nam nhuan')"
   ]
  },
  {
   "cell_type": "code",
   "execution_count": null,
   "id": "d137e469",
   "metadata": {},
   "outputs": [],
   "source": [
    "#1.11\n",
    "kw = int(input(\"nhap so kw tieu thu: \"))\n",
    "if (kw <= 50):\n",
    "    money = kw * 1500  \n",
    "elif (kw <= 100):\n",
    "    money = 50 * 1500 + (kw - 50) * 2000\n",
    "else:\n",
    "    money = 50 * 1500 + 50 * 2000 + (kw - 100) * 3000\n",
    "print(money)\n"
   ]
  },
  {
   "cell_type": "code",
   "execution_count": null,
   "id": "7080d515",
   "metadata": {},
   "outputs": [],
   "source": [
    "#1.12\n",
    "a, b = map(float, input('nhap a,b:').split())\n",
    "if a == 0:\n",
    "    if b == 0:\n",
    "        print('vo so nghiem')\n",
    "    else:\n",
    "        print('vo nghiem')\n",
    "else:\n",
    "    x = -b/a\n",
    "    print('nghiem x =', x)"
   ]
  },
  {
   "cell_type": "code",
   "execution_count": null,
   "id": "cf2e2dcc",
   "metadata": {},
   "outputs": [],
   "source": [
    "#1.13\n",
    "def rup(num):\n",
    "    if num.is_integer():\n",
    "        return(int(num))\n",
    "    return int(num +1)\n",
    "def rdown (num):\n",
    "    if num.is_integer():\n",
    "        return(int(num))\n",
    "    return int(num - 1)\n",
    "def rint(num):\n",
    "    if num.is_integer():\n",
    "        return int(num)\n",
    "    if 0 < num - int(num) < 0.5:\n",
    "        return int(num)\n",
    "    return int(num + 1)\n",
    "num = float(input('nhap so: '))\n",
    "print (rup(num), rdown(num), rint(num))"
   ]
  },
  {
   "cell_type": "code",
   "execution_count": null,
   "id": "966013b3",
   "metadata": {},
   "outputs": [],
   "source": [
    "#1.14\n",
    "c1, c2, c3 = map(float, input(\"nhap 3 canh: \").split())\n",
    "if c1 + c2 > c3 and (c1 + c3 > c2) and (c2 +c3 > c1):\n",
    "    if (c1 == c2) or (c2 == c3) or (c1 == c3):\n",
    "        if (c1 == c2 ==c3):\n",
    "            print(\"tam giac deu\")\n",
    "        elif (c1**2 + c2**2 == c3**2) or (c2**2 + c3**2 == c1**2) or (c1**2 + c3**2 == c2**2):\n",
    "            print(\"tam giac vuong can\")\n",
    "        else:\n",
    "            print('tam giac can')\n",
    "    elif c1**2 + c2**2 == c3**2 or c2**2 + c3**2 == c1**2 or c1**2 + c3**2 == c2**2:\n",
    "        print(\"tam giac vuong\")\n",
    "    else:\n",
    "        print('tam giac thuong')\n",
    "else:\n",
    "    print('khong phai tam giac')"
   ]
  }
 ],
 "metadata": {
  "kernelspec": {
   "display_name": "Python 3",
   "language": "python",
   "name": "python3"
  },
  "language_info": {
   "codemirror_mode": {
    "name": "ipython",
    "version": 3
   },
   "file_extension": ".py",
   "mimetype": "text/x-python",
   "name": "python",
   "nbconvert_exporter": "python",
   "pygments_lexer": "ipython3",
   "version": "3.13.7"
  }
 },
 "nbformat": 4,
 "nbformat_minor": 5
}
