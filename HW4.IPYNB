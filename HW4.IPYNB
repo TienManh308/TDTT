{
 "cells": [
  {
   "cell_type": "code",
   "execution_count": 5,
   "id": "7df53e22",
   "metadata": {},
   "outputs": [
    {
     "name": "stdout",
     "output_type": "stream",
     "text": [
      "1275\n"
     ]
    }
   ],
   "source": [
    "#1\n",
    "n = int(input())\n",
    "s = 0\n",
    "for i in range(1,n+1):\n",
    "    s += i\n",
    "print(s)"
   ]
  },
  {
   "cell_type": "code",
   "execution_count": null,
   "id": "793ed962",
   "metadata": {},
   "outputs": [
    {
     "name": "stdout",
     "output_type": "stream",
     "text": [
      "0.5\n",
      "0.5\n",
      "2.0\n",
      "True\n"
     ]
    }
   ],
   "source": [
    "#2\n",
    "def is_prime(s):\n",
    "    if s < 2:\n",
    "        return False\n",
    "    if s <= 3:\n",
    "        return True\n",
    "    if s % 2 == 0 or s % 3 == 0:\n",
    "        return False\n",
    "    i = 5\n",
    "    while i*i <= s:\n",
    "        if s % i == 0 or s % (i+2) == 0:\n",
    "            return False\n",
    "        i += 6\n",
    "    return True\n",
    "\n",
    "num = -1.5\n",
    "def is_integer_number(x):\n",
    "    return isinstance(x, int) or (isinstance(x, float) and x.is_integer())\n",
    "while (is_integer_number(num) == False ) or num < 0:\n",
    "    num = float(input())\n",
    "\n",
    "if is_prime(num) and num.is_integer():\n",
    "    print('True')\n",
    "else:\n",
    "    print(\"False\")\n",
    "\n",
    "\n"
   ]
  },
  {
   "cell_type": "code",
   "execution_count": 39,
   "id": "8ac19d62",
   "metadata": {},
   "outputs": [
    {
     "name": "stdout",
     "output_type": "stream",
     "text": [
      "40320\n"
     ]
    }
   ],
   "source": [
    "#3\n",
    "def giaithua(n):\n",
    "    if n == 0 or n == 1:\n",
    "        return 1\n",
    "    else:\n",
    "        return n * giaithua(n-1)\n",
    "n = int(input())\n",
    "print(giaithua(n))"
   ]
  },
  {
   "cell_type": "code",
   "execution_count": 47,
   "id": "599f3d92",
   "metadata": {},
   "outputs": [
    {
     "name": "stdout",
     "output_type": "stream",
     "text": [
      "1\n"
     ]
    }
   ],
   "source": [
    "#4 \n",
    "n = int(input())\n",
    "d = 0\n",
    "if n == 0:\n",
    "    print(\"1\")\n",
    "else:\n",
    "    while n > 0:\n",
    "        n = n //10\n",
    "        d+=1\n",
    "    print(d)"
   ]
  },
  {
   "cell_type": "code",
   "execution_count": 8,
   "id": "ea5ee026",
   "metadata": {},
   "outputs": [
    {
     "name": "stdout",
     "output_type": "stream",
     "text": [
      "I've found the meaning of life!\n"
     ]
    }
   ],
   "source": [
    "#5\n",
    "\n",
    "n = int(input())\n",
    "s = input()\n",
    "s = s.split()\n",
    "d = 0\n",
    "for i in range (n):\n",
    "    if s[i] == '42':\n",
    "        d +=1\n",
    "        print(\"I've found the meaning of life!\")\n",
    "        break\n",
    "if d == 0:\n",
    "    print(\"It's a joke!\")\n"
   ]
  },
  {
   "cell_type": "code",
   "execution_count": null,
   "id": "00e76857",
   "metadata": {},
   "outputs": [],
   "source": [
    "#6\n",
    "def is_prime(n):\n",
    "    if n <= 1:\n",
    "        return False\n",
    "    if n <= 3:\n",
    "        return True\n",
    "    if n % 2 == 0 or n % 3 == 0:\n",
    "        return False\n",
    "    i = 5\n",
    "    while i * i <= n:\n",
    "        if n % i == 0 or n % (i + 2) == 0:\n",
    "            return False\n",
    "        i += 6\n",
    "    return True\n",
    "\n",
    "a,b = map(int, input().split())\n",
    "sum = 0\n",
    "for num in range(a, b + 1):\n",
    "    if is_prime(num):\n",
    "        sum += num\n",
    "print(sum)\n"
   ]
  },
  {
   "cell_type": "code",
   "execution_count": 11,
   "id": "6e859398",
   "metadata": {},
   "outputs": [
    {
     "name": "stdout",
     "output_type": "stream",
     "text": [
      "7\n"
     ]
    }
   ],
   "source": [
    "#7\n",
    "n = int(input())\n",
    "i = 2\n",
    "while n > 1:\n",
    "    \n",
    "    if n % i == 0:\n",
    "        while n % i == 0:    \n",
    "            n = n // i\n",
    "    else:\n",
    "        i +=1\n",
    "\n",
    "if i > 1:\n",
    "    print(i)"
   ]
  },
  {
   "cell_type": "code",
   "execution_count": 22,
   "id": "047c07ed",
   "metadata": {},
   "outputs": [
    {
     "name": "stdout",
     "output_type": "stream",
     "text": [
      "4 9339\n"
     ]
    }
   ],
   "source": [
    "#8\n",
    "n = int(input())\n",
    "\n",
    "def reverse(s):\n",
    "    s = str(s)\n",
    "    return int(s[::-1])\n",
    "def is_palindrome(a):\n",
    "    if a == reverse(a):\n",
    "        return True\n",
    "    return False\n",
    "count = 0\n",
    "while (is_palindrome(n) == False):\n",
    "    n = n + (reverse(n))\n",
    "    count +=1\n",
    "print(count, n)\n",
    "    "
   ]
  },
  {
   "cell_type": "code",
   "execution_count": 30,
   "id": "1198f272",
   "metadata": {},
   "outputs": [
    {
     "name": "stdout",
     "output_type": "stream",
     "text": [
      "1 4 9 16 25 36 49 "
     ]
    }
   ],
   "source": [
    "#9\n",
    "n = int(input())\n",
    "s = []\n",
    "i = 1\n",
    "while(i * i <= n):\n",
    "    print(i*i, end = \" \")\n",
    "    i += 1\n"
   ]
  },
  {
   "cell_type": "code",
   "execution_count": 38,
   "id": "8e08c403",
   "metadata": {},
   "outputs": [
    {
     "name": "stdout",
     "output_type": "stream",
     "text": [
      "9 20\n"
     ]
    }
   ],
   "source": [
    "#10\n",
    "def collatz(s):\n",
    "    i = 1\n",
    "    while( s > 1):\n",
    "        if s % 2 == 0:\n",
    "            s = s // 2\n",
    "            i += 1\n",
    "        else:\n",
    "            s = s * 3 + 1\n",
    "            i += 1\n",
    "    return i\n",
    "\n",
    "n = int(input())\n",
    "count = 1\n",
    "L = 1\n",
    "for j in range(1, n +1 ):\n",
    "    if count < collatz(j):\n",
    "        \n",
    "        count = collatz(j)\n",
    "        L = j\n",
    "\n",
    "print(L, count)"
   ]
  },
  {
   "cell_type": "code",
   "execution_count": null,
   "id": "e2d44246",
   "metadata": {},
   "outputs": [
    {
     "name": "stdout",
     "output_type": "stream",
     "text": [
      "5\n",
      "4\n"
     ]
    }
   ],
   "source": [
    "#11\n",
    "n = int(input())\n",
    "count = 0\n",
    "L = 1\n",
    "i = 0\n",
    "while i*i <= n:\n",
    "    i+=1\n",
    "    if n % i == 0:\n",
    "        if i % 2 == 0:\n",
    "            count +=1\n",
    "        if n % 2 == 0:\n",
    "            count += 1\n",
    "if (i-1)*(i-1) == n:\n",
    "    count -= 1\n",
    "print(count)\n",
    "        "
   ]
  },
  {
   "cell_type": "code",
   "execution_count": null,
   "id": "705c2a8e",
   "metadata": {},
   "outputs": [],
   "source": [
    "#12\n",
    "X = int(input())\n",
    "N = int(input())\n",
    "S = X * ((1 + 0.007) ** N)\n",
    "print(int(S))\n"
   ]
  },
  {
   "cell_type": "code",
   "execution_count": null,
   "id": "4487a5d7",
   "metadata": {},
   "outputs": [
    {
     "name": "stdout",
     "output_type": "stream",
     "text": [
      "504\n",
      "true\n"
     ]
    }
   ],
   "source": [
    "#13 tong uoc\n",
    "n, m = map (int, input().split())\n",
    "\n",
    "M = max(n,m)\n",
    "N = min(n,m)\n",
    "i = 0\n",
    "s = 0\n",
    "while i*i <=M:\n",
    "    i += 1\n",
    "    if  M % i == 0:\n",
    "        s += M // i + i\n",
    "\n",
    "if (i-1)*(i-1) == M:\n",
    "    s = s - i + 1\n",
    "if (s - M) == N:\n",
    "    print('true')\n",
    "else:\n",
    "    print(\"false\")"
   ]
  },
  {
   "cell_type": "code",
   "execution_count": null,
   "id": "d33bed9a",
   "metadata": {},
   "outputs": [
    {
     "name": "stdout",
     "output_type": "stream",
     "text": [
      "4\n"
     ]
    }
   ],
   "source": [
    "#14 GCD\n",
    "GCD = 1\n",
    "a, b = map(int, input().split())\n",
    "A = min(a,b)\n",
    "B = max(a,b)\n",
    "i = 1\n",
    "while i*i <= A:\n",
    "    if A % i == 0:\n",
    "        if B % i == 0:\n",
    "            GCD = max(GCD, i)\n",
    "        if B % (A // i) == 0:\n",
    "            GCD = max(GCD, A // i)\n",
    "    i+=1\n",
    "\n",
    "print(GCD)\n"
   ]
  },
  {
   "cell_type": "code",
   "execution_count": null,
   "id": "ef6e43c4",
   "metadata": {},
   "outputs": [],
   "source": [
    "#15 ga va cho\n",
    "num, leg = map(int, input().split())\n",
    "\"\"\" a + b = num\n",
    "    2a + 4b = leg\n",
    "\"\"\"\n",
    "cho = (leg - 2 * num) / 2\n",
    "ga = num - cho\n",
    "if ga.is_integer() and cho.is_integer():\n",
    "    print(int(ga), int(cho))\n",
    "else:\n",
    "\n",
    "    print(\"invalid\")"
   ]
  },
  {
   "cell_type": "code",
   "execution_count": 27,
   "id": "ef4e08f8",
   "metadata": {},
   "outputs": [
    {
     "name": "stdout",
     "output_type": "stream",
     "text": [
      "0\n",
      "6\n",
      "12\n",
      "18\n",
      "24\n",
      "30\n",
      "36\n",
      "42\n",
      "48\n",
      "54\n",
      "60\n",
      "66\n",
      "72\n",
      "78\n",
      "84\n",
      "90\n",
      "96\n"
     ]
    }
   ],
   "source": [
    "#16\n",
    "i = 0\n",
    "while i < 100:\n",
    "    print(i)\n",
    "    i += 6\n"
   ]
  },
  {
   "cell_type": "code",
   "execution_count": null,
   "id": "b5718045",
   "metadata": {},
   "outputs": [
    {
     "name": "stdout",
     "output_type": "stream",
     "text": [
      "5x1=5 \n",
      "5x2=10 \n",
      "5x3=15 \n",
      "5x4=20 \n",
      "5x5=25 \n",
      "5x6=30 \n",
      "5x7=35 \n",
      "5x8=40 \n",
      "5x9=45 \n",
      "5x10=50 \n"
     ]
    }
   ],
   "source": [
    "#17\n",
    "n = int(input())\n",
    "for i in range(1, 11 ):\n",
    "    print(f\"{n}x{i}={n*i} \")"
   ]
  },
  {
   "cell_type": "code",
   "execution_count": 33,
   "id": "61c95e31",
   "metadata": {},
   "outputs": [
    {
     "name": "stdout",
     "output_type": "stream",
     "text": [
      "2 4 6 8 "
     ]
    }
   ],
   "source": [
    "#19 so duong chan\n",
    "n = int(input())\n",
    "i = 2\n",
    "while i <= n:\n",
    "    print(i, end = \" \")\n",
    "    i+=2\n"
   ]
  },
  {
   "cell_type": "code",
   "execution_count": null,
   "id": "23c1ccd6",
   "metadata": {},
   "outputs": [],
   "source": [
    "#20 luy thua cua 2\n",
    "n = int(input())\n",
    "\n",
    "if n & (n-1):\n",
    "    print('yes')\n",
    "else:\n",
    "    print('no')\n",
    "    "
   ]
  },
  {
   "cell_type": "code",
   "execution_count": 34,
   "id": "7d79c9b7",
   "metadata": {},
   "outputs": [
    {
     "name": "stdout",
     "output_type": "stream",
     "text": [
      "21\n"
     ]
    }
   ],
   "source": [
    "#21 tong chu so\n",
    "n = int(input())\n",
    "s = 0\n",
    "while n >0:\n",
    "    s = s + n % 10\n",
    "    n = n // 10\n",
    "print (s)"
   ]
  },
  {
   "cell_type": "code",
   "execution_count": 35,
   "id": "9aef5e2a",
   "metadata": {},
   "outputs": [
    {
     "name": "stdout",
     "output_type": "stream",
     "text": [
      "3 so chu so chan, 3 so chu so le\n"
     ]
    }
   ],
   "source": [
    "#22 so chan le\n",
    "n = int(input())\n",
    "chan = 0\n",
    "le = 0\n",
    "while n > 0:\n",
    "    t = n % 10\n",
    "    if t % 2 == 0:\n",
    "        chan +=1\n",
    "    else:\n",
    "        le +=1\n",
    "    n //= 10\n",
    "print(f\"{chan} so chu so chan, {le} so chu so le\")"
   ]
  },
  {
   "cell_type": "code",
   "execution_count": 42,
   "id": "6ab0ef05",
   "metadata": {},
   "outputs": [
    {
     "name": "stdout",
     "output_type": "stream",
     "text": [
      "3\n"
     ]
    }
   ],
   "source": [
    "#23\n",
    "n = int(input())\n",
    "i = 1\n",
    "while i*(i+1)//2 < n:\n",
    "    i+=1\n",
    "print(i-1)"
   ]
  },
  {
   "cell_type": "code",
   "execution_count": 43,
   "id": "e6ca9df0",
   "metadata": {},
   "outputs": [
    {
     "name": "stdout",
     "output_type": "stream",
     "text": [
      "-1 54\n"
     ]
    }
   ],
   "source": [
    "#25\n",
    "n = 0\n",
    "tmin = tmax = int(input())\n",
    "while n != -1:\n",
    "    n = int(input())\n",
    "    if n < tmin:\n",
    "        tmin = n\n",
    "    if n > tmax:\n",
    "        tmax = n\n",
    "\n",
    "print(tmin, tmax)"
   ]
  },
  {
   "cell_type": "code",
   "execution_count": 33,
   "id": "9cbeaaa3",
   "metadata": {},
   "outputs": [
    {
     "name": "stdout",
     "output_type": "stream",
     "text": [
      "Số Fibonacci lớn nhất không vượt quá 0 là: 1\n"
     ]
    }
   ],
   "source": [
    "#26\n",
    "num = int(input(\"Nhập số A: \"))\n",
    "\n",
    "def fibo(a):\n",
    "    fi1, fi2 = 1, 1\n",
    "    while fi2 <= a:\n",
    "        fi1, fi2 = fi2, fi1 + fi2\n",
    "    return fi1\n",
    "\n",
    "print(f\"Số Fibonacci lớn nhất không vượt quá {num} là:\", fibo(num))\n",
    "\n"
   ]
  },
  {
   "cell_type": "code",
   "execution_count": null,
   "id": "7f9b31c9",
   "metadata": {},
   "outputs": [],
   "source": [
    "#27\n",
    "st = input(\"\")\n",
    "d = 0\n",
    "for i in st:\n",
    "    if i == \" \":\n",
    "        d += 1\n",
    "print(d + 1 )\n"
   ]
  },
  {
   "cell_type": "code",
   "execution_count": 32,
   "id": "403329cd",
   "metadata": {},
   "outputs": [
    {
     "name": "stdout",
     "output_type": "stream",
     "text": [
      "cung\n"
     ]
    }
   ],
   "source": [
    "#28\n",
    "s = input(\"\")\n",
    "temp = 0\n",
    "for i in range(len(s)):\n",
    "    if s[i] == \" \":\n",
    "        temp = i\n",
    "        break\n",
    "print(s[:temp])"
   ]
  },
  {
   "cell_type": "code",
   "execution_count": 36,
   "id": "4c417f00",
   "metadata": {},
   "outputs": [
    {
     "name": "stdout",
     "output_type": "stream",
     "text": [
      "['tien', 'manh', 'dai']\n"
     ]
    }
   ],
   "source": [
    "#29\n",
    "a = input(\"\")\n",
    "b = a.split()\n",
    "print(b)"
   ]
  },
  {
   "cell_type": "code",
   "execution_count": null,
   "id": "24b00b5d",
   "metadata": {},
   "outputs": [],
   "source": [
    "#30\n",
    "s = input(\"Nhập chuỗi: \")\n",
    "hoa = thuong = so = 0\n",
    "for ch in s:\n",
    "    if ch.isupper():\n",
    "        hoa += 1\n",
    "    elif ch.islower():\n",
    "        thuong += 1\n",
    "    elif ch.isdigit():\n",
    "        so += 1\n",
    "print(\"Số ký tự in hoa:\", hoa)\n",
    "print(\"Số ký tự in thường:\", thuong)\n",
    "print(\"Số ký tự số:\", so)\n"
   ]
  },
  {
   "cell_type": "code",
   "execution_count": 54,
   "id": "a8b71d4d",
   "metadata": {},
   "outputs": [
    {
     "name": "stdout",
     "output_type": "stream",
     "text": [
      "25\n"
     ]
    }
   ],
   "source": [
    "#31\n",
    "st = input()\n",
    "s = 0\n",
    "for i in st:\n",
    "    if '0' <= i <= '9':\n",
    "        s += int(i)\n",
    "\n",
    "print(s)\n"
   ]
  },
  {
   "cell_type": "code",
   "execution_count": null,
   "id": "ec1b528f",
   "metadata": {},
   "outputs": [],
   "source": [
    "s = input(\"Nhập chuỗi: \")\n",
    "co_hoa = any(ch.isupper() for ch in s)\n",
    "co_thuong = any(ch.islower() for ch in s)\n",
    "co_so = any(ch.isdigit() for ch in s)\n",
    "co_dac_biet = any(not ch.isalnum() for ch in s)\n",
    "if len(s) > 6 and co_hoa and co_thuong and co_so and co_dac_biet:\n",
    "    print(\"Mật khẩu mạnh\")\n",
    "else:\n",
    "    print(\"Mật khẩu yếu\")\n",
    "\n"
   ]
  },
  {
   "cell_type": "code",
   "execution_count": null,
   "id": "e12e3626",
   "metadata": {},
   "outputs": [],
   "source": [
    "#33\n",
    "n = int(input(\"Nhập số nguyên: \"))\n",
    "s = f\"{n:,}\".replace(\",\", \".\")\n",
    "print(\"Đổi sang chuỗi rồi in ra:\", s)\n"
   ]
  },
  {
   "cell_type": "code",
   "execution_count": null,
   "id": "2eabeddc",
   "metadata": {},
   "outputs": [],
   "source": [
    "#34\n",
    "a = input(\"Chuỗi a: \")\n",
    "b = input(\"Chuỗi b: \")\n",
    "i = a.find(b)\n",
    "if i != -1:\n",
    "    a = a[:i] + a[i+len(b):]\n",
    "print(\"Sau khi xóa, chuỗi a:\", a)\n"
   ]
  }
 ],
 "metadata": {
  "kernelspec": {
   "display_name": "Python 3",
   "language": "python",
   "name": "python3"
  },
  "language_info": {
   "codemirror_mode": {
    "name": "ipython",
    "version": 3
   },
   "file_extension": ".py",
   "mimetype": "text/x-python",
   "name": "python",
   "nbconvert_exporter": "python",
   "pygments_lexer": "ipython3",
   "version": "3.13.7"
  }
 },
 "nbformat": 4,
 "nbformat_minor": 5
}
